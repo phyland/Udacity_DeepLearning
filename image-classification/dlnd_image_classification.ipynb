{
 "cells": [
  {
   "cell_type": "code",
   "execution_count": 1,
   "metadata": {
    "collapsed": false
   },
   "outputs": [
    {
     "name": "stdout",
     "output_type": "stream",
     "text": [
      "All files found!\n"
     ]
    }
   ],
   "source": [
    "\"\"\"\n",
    "DON'T MODIFY ANYTHING IN THIS CELL THAT IS BELOW THIS LINE\n",
    "\"\"\"\n",
    "from urllib.request import urlretrieve\n",
    "from os.path import isfile, isdir\n",
    "from tqdm import tqdm\n",
    "import problem_unittests as tests\n",
    "import tarfile\n",
    "\n",
    "cifar10_dataset_folder_path = 'cifar-10-batches-py'\n",
    "\n",
    "class DLProgress(tqdm):\n",
    "    last_block = 0\n",
    "\n",
    "    def hook(self, block_num=1, block_size=1, total_size=None):\n",
    "        self.total = total_size\n",
    "        self.update((block_num - self.last_block) * block_size)\n",
    "        self.last_block = block_num\n",
    "\n",
    "if not isfile('cifar-10-python.tar.gz'):\n",
    "    with DLProgress(unit='B', unit_scale=True, miniters=1, desc='CIFAR-10 Dataset') as pbar:\n",
    "        urlretrieve(\n",
    "            'https://www.cs.toronto.edu/~kriz/cifar-10-python.tar.gz',\n",
    "            'cifar-10-python.tar.gz',\n",
    "            pbar.hook)\n",
    "\n",
    "if not isdir(cifar10_dataset_folder_path):\n",
    "    with tarfile.open('cifar-10-python.tar.gz') as tar:\n",
    "        tar.extractall()\n",
    "        tar.close()\n",
    "\n",
    "\n",
    "tests.test_folder_path(cifar10_dataset_folder_path)"
   ]
  },
  {
   "cell_type": "markdown",
   "metadata": {
    "collapsed": true
   },
   "source": [
    "# Image Classification\n",
    "In this project, you'll classify images from the [CIFAR-10 dataset](https://www.cs.toronto.edu/~kriz/cifar.html).  The dataset consists of airplanes, dogs, cats, and other objects. You'll preprocess the images, then train a convolutional neural network on all the samples. The images need to be normalized and the labels need to be one-hot encoded.  You'll get to apply what you learned and build a convolutional, max pooling, dropout, and fully connected layers.  At the end, you'll get to see your neural network's predictions on the sample images.\n",
    "## Get the Data\n",
    "Run the following cell to download the [CIFAR-10 dataset for python](https://www.cs.toronto.edu/~kriz/cifar-10-python.tar.gz)."
   ]
  },
  {
   "cell_type": "markdown",
   "metadata": {},
   "source": [
    "## Explore the Data\n",
    "The dataset is broken into batches to prevent your machine from running out of memory.  The CIFAR-10 dataset consists of 5 batches, named `data_batch_1`, `data_batch_2`, etc.. Each batch contains the labels and images that are one of the following:\n",
    "* airplane\n",
    "* automobile\n",
    "* bird\n",
    "* cat\n",
    "* deer\n",
    "* dog\n",
    "* frog\n",
    "* horse\n",
    "* ship\n",
    "* truck\n",
    "\n",
    "Understanding a dataset is part of making predictions on the data.  Play around with the code cell below by changing the `batch_id` and `sample_id`. The `batch_id` is the id for a batch (1-5). The `sample_id` is the id for a image and label pair in the batch.\n",
    "\n",
    "Ask yourself \"What are all possible labels?\", \"What is the range of values for the image data?\", \"Are the labels in order or random?\".  Answers to questions like these will help you preprocess the data and end up with better predictions."
   ]
  },
  {
   "cell_type": "code",
   "execution_count": 2,
   "metadata": {
    "collapsed": false
   },
   "outputs": [
    {
     "name": "stdout",
     "output_type": "stream",
     "text": [
      "\n",
      "Stats of batch 1:\n",
      "Samples: 10000\n",
      "Label Counts: {0: 1005, 1: 974, 2: 1032, 3: 1016, 4: 999, 5: 937, 6: 1030, 7: 1001, 8: 1025, 9: 981}\n",
      "First 20 Labels: [6, 9, 9, 4, 1, 1, 2, 7, 8, 3, 4, 7, 7, 2, 9, 9, 9, 3, 2, 6]\n",
      "\n",
      "Example of Image 5:\n",
      "Image - Min Value: 0 Max Value: 252\n",
      "Image - Shape: (32, 32, 3)\n",
      "Label - Label Id: 1 Name: automobile\n"
     ]
    },
    {
     "data": {
      "image/png": "[encoded data removed]",
      "text/plain": [
       "<matplotlib.figure.Figure at 0x112086cc0>"
      ]
     },
     "metadata": {
      "image/png": {
       "height": 250,
       "width": 253
      }
     },
     "output_type": "display_data"
    }
   ],
   "source": [
    "%matplotlib inline\n",
    "%config InlineBackend.figure_format = 'retina'\n",
    "\n",
    "import helper\n",
    "import numpy as np\n",
    "\n",
    "# Explore the dataset\n",
    "batch_id = 1\n",
    "sample_id = 5\n",
    "helper.display_stats(cifar10_dataset_folder_path, batch_id, sample_id)"
   ]
  },
  {
   "cell_type": "markdown",
   "metadata": {},
   "source": [
    "## Implement Preprocess Functions\n",
    "### Normalize\n",
    "In the cell below, implement the `normalize` function to take in image data, `x`, and return it as a normalized Numpy array. The values should be in the range of 0 to 1, inclusive.  The return object should be the same shape as `x`."
   ]
  },
  {
   "cell_type": "code",
   "execution_count": 3,
   "metadata": {
    "collapsed": false
   },
   "outputs": [
    {
     "name": "stdout",
     "output_type": "stream",
     "text": [
      "Tests Passed\n"
     ]
    }
   ],
   "source": [
    "def normalize(x):\n",
    "    \"\"\"\n",
    "    Normalize a list of sample image data in the range of 0 to 1\n",
    "    : x: List of image data.  The image shape is (32, 32, 3)\n",
    "    : return: Numpy array of normalize data\n",
    "    \"\"\"\n",
    "    # TODO: Implement Function\n",
    "    return (x-x.min())/(x.max()-x.min())\n",
    "\n",
    "\n",
    "\"\"\"\n",
    "DON'T MODIFY ANYTHING IN THIS CELL THAT IS BELOW THIS LINE\n",
    "\"\"\"\n",
    "tests.test_normalize(normalize)"
   ]
  },
  {
   "cell_type": "markdown",
   "metadata": {},
   "source": [
    "### One-hot encode\n",
    "Just like the previous code cell, you'll be implementing a function for preprocessing.  This time, you'll implement the `one_hot_encode` function. The input, `x`, are a list of labels.  Implement the function to return the list of labels as One-Hot encoded Numpy array.  The possible values for labels are 0 to 9. The one-hot encoding function should return the same encoding for each value between each call to `one_hot_encode`.  Make sure to save the map of encodings outside the function.\n",
    "\n",
    "Hint: Don't reinvent the wheel."
   ]
  },
  {
   "cell_type": "code",
   "execution_count": 4,
   "metadata": {
    "collapsed": false
   },
   "outputs": [
    {
     "name": "stdout",
     "output_type": "stream",
     "text": [
      "Tests Passed\n"
     ]
    }
   ],
   "source": [
    "def one_hot_encode(x):\n",
    "    \"\"\"\n",
    "    One hot encode a list of sample labels. Return a one-hot encoded vector for each label.\n",
    "    : x: List of sample Labels\n",
    "    : return: Numpy array of one-hot encoded labels\n",
    "    \"\"\"\n",
    "    labels_one_hot = np.zeros((len(x),10), dtype=np.int)\n",
    "    for i in range(len(x)):\n",
    "        labels_one_hot[i][x[i]] = 1\n",
    "    return labels_one_hot\n",
    "\n",
    "\"\"\"\n",
    "DON'T MODIFY ANYTHING IN THIS CELL THAT IS BELOW THIS LINE\n",
    "\"\"\"\n",
    "tests.test_one_hot_encode(one_hot_encode)"
   ]
  },
  {
   "cell_type": "markdown",
   "metadata": {},
   "source": [
    "### Randomize Data\n",
    "As you saw from exploring the data above, the order of the samples are randomized.  It doesn't hurt to randomize it again, but you don't need to for this dataset."
   ]
  },
  {
   "cell_type": "markdown",
   "metadata": {},
   "source": [
    "## Preprocess all the data and save it\n",
    "Running the code cell below will preprocess all the CIFAR-10 data and save it to file. The code below also uses 10% of the training data for validation."
   ]
  },
  {
   "cell_type": "code",
   "execution_count": 5,
   "metadata": {
    "collapsed": false
   },
   "outputs": [],
   "source": [
    "\"\"\"\n",
    "DON'T MODIFY ANYTHING IN THIS CELL\n",
    "\"\"\"\n",
    "# Preprocess Training, Validation, and Testing Data\n",
    "helper.preprocess_and_save_data(cifar10_dataset_folder_path, normalize, one_hot_encode)"
   ]
  },
  {
   "cell_type": "markdown",
   "metadata": {},
   "source": [
    "# Check Point\n",
    "This is your first checkpoint.  If you ever decide to come back to this notebook or have to restart the notebook, you can start from here.  The preprocessed data has been saved to disk."
   ]
  },
  {
   "cell_type": "code",
   "execution_count": 6,
   "metadata": {
    "collapsed": true
   },
   "outputs": [],
   "source": [
    "\"\"\"\n",
    "DON'T MODIFY ANYTHING IN THIS CELL\n",
    "\"\"\"\n",
    "import pickle\n",
    "import problem_unittests as tests\n",
    "import helper\n",
    "\n",
    "# Load the Preprocessed Validation data\n",
    "valid_features, valid_labels = pickle.load(open('preprocess_validation.p', mode='rb'))"
   ]
  },
  {
   "cell_type": "markdown",
   "metadata": {},
   "source": [
    "## Build the network\n",
    "For the neural network, you'll build each layer into a function.  Most of the code you've seen has been outside of functions. To test your code more thoroughly, we require that you put each layer in a function.  This allows us to give you better feedback and test for simple mistakes using our unittests before you submit your project.\n",
    "\n",
    ">**Note:** If you're finding it hard to dedicate enough time for this course each week, we've provided a small shortcut to this part of the project. In the next couple of problems, you'll have the option to use classes from the [TensorFlow Layers](https://www.tensorflow.org/api_docs/python/tf/layers) or [TensorFlow Layers (contrib)](https://www.tensorflow.org/api_guides/python/contrib.layers) packages to build each layer, except the layers you build in the \"Convolutional and Max Pooling Layer\" section.  TF Layers is similar to Keras's and TFLearn's abstraction to layers, so it's easy to pickup.\n",
    "\n",
    ">However, if you would like to get the most out of this course, try to solve all the problems _without_ using anything from the TF Layers packages. You **can** still use classes from other packages that happen to have the same name as ones you find in TF Layers! For example, instead of using the TF Layers version of the `conv2d` class, [tf.layers.conv2d](https://www.tensorflow.org/api_docs/python/tf/layers/conv2d), you would want to use the TF Neural Network version of `conv2d`, [tf.nn.conv2d](https://www.tensorflow.org/api_docs/python/tf/nn/conv2d). \n",
    "\n",
    "Let's begin!\n",
    "\n",
    "### Input\n",
    "The neural network needs to read the image data, one-hot encoded labels, and dropout keep probability. Implement the following functions\n",
    "* Implement `neural_net_image_input`\n",
    " * Return a [TF Placeholder](https://www.tensorflow.org/api_docs/python/tf/placeholder)\n",
    " * Set the shape using `image_shape` with batch size set to `None`.\n",
    " * Name the TensorFlow placeholder \"x\" using the TensorFlow `name` parameter in the [TF Placeholder](https://www.tensorflow.org/api_docs/python/tf/placeholder).\n",
    "* Implement `neural_net_label_input`\n",
    " * Return a [TF Placeholder](https://www.tensorflow.org/api_docs/python/tf/placeholder)\n",
    " * Set the shape using `n_classes` with batch size set to `None`.\n",
    " * Name the TensorFlow placeholder \"y\" using the TensorFlow `name` parameter in the [TF Placeholder](https://www.tensorflow.org/api_docs/python/tf/placeholder).\n",
    "* Implement `neural_net_keep_prob_input`\n",
    " * Return a [TF Placeholder](https://www.tensorflow.org/api_docs/python/tf/placeholder) for dropout keep probability.\n",
    " * Name the TensorFlow placeholder \"keep_prob\" using the TensorFlow `name` parameter in the [TF Placeholder](https://www.tensorflow.org/api_docs/python/tf/placeholder).\n",
    "\n",
    "These names will be used at the end of the project to load your saved model.\n",
    "\n",
    "Note: `None` for shapes in TensorFlow allow for a dynamic size."
   ]
  },
  {
   "cell_type": "code",
   "execution_count": 7,
   "metadata": {
    "collapsed": false
   },
   "outputs": [
    {
     "name": "stdout",
     "output_type": "stream",
     "text": [
      "Image Input Tests Passed.\n",
      "Label Input Tests Passed.\n",
      "Keep Prob Tests Passed.\n"
     ]
    }
   ],
   "source": [
    "import tensorflow as tf\n",
    "\n",
    "def neural_net_image_input(image_shape):\n",
    "    \"\"\"\n",
    "    Return a Tensor for a bach of image input\n",
    "    : image_shape: Shape of the images\n",
    "    : return: Tensor for image input.\n",
    "    \"\"\"\n",
    "    # TODO: Implement Function\n",
    "    return tf.placeholder(tf.float32, shape=(None, *image_shape),name='x')\n",
    "\n",
    "\n",
    "def neural_net_label_input(n_classes):\n",
    "    \"\"\"\n",
    "    Return a Tensor for a batch of label input\n",
    "    : n_classes: Number of classes\n",
    "    : return: Tensor for label input.\n",
    "    \"\"\"\n",
    "    # TODO: Implement Function\n",
    "    return tf.placeholder(tf.float32, shape=(None, n_classes),name='y')\n",
    "\n",
    "\n",
    "def neural_net_keep_prob_input():\n",
    "    \"\"\"\n",
    "    Return a Tensor for keep probability\n",
    "    : return: Tensor for keep probability.\n",
    "    \"\"\"\n",
    "    # TODO: Implement Function\n",
    "    return tf.placeholder(tf.float32,name='keep_prob')\n",
    "\n",
    "\n",
    "\"\"\"\n",
    "DON'T MODIFY ANYTHING IN THIS CELL THAT IS BELOW THIS LINE\n",
    "\"\"\"\n",
    "tf.reset_default_graph()\n",
    "tests.test_nn_image_inputs(neural_net_image_input)\n",
    "tests.test_nn_label_inputs(neural_net_label_input)\n",
    "tests.test_nn_keep_prob_inputs(neural_net_keep_prob_input)"
   ]
  },
  {
   "cell_type": "markdown",
   "metadata": {},
   "source": [
    "### Convolution and Max Pooling Layer\n",
    "Convolution layers have a lot of success with images. For this code cell, you should implement the function `conv2d_maxpool` to apply convolution then max pooling:\n",
    "* Create the weight and bias using `conv_ksize`, `conv_num_outputs` and the shape of `x_tensor`.\n",
    "* Apply a convolution to `x_tensor` using weight and `conv_strides`.\n",
    " * We recommend you use same padding, but you're welcome to use any padding.\n",
    "* Add bias\n",
    "* Add a nonlinear activation to the convolution.\n",
    "* Apply Max Pooling using `pool_ksize` and `pool_strides`.\n",
    " * We recommend you use same padding, but you're welcome to use any padding.\n",
    "\n",
    "**Note:** You **can't** use [TensorFlow Layers](https://www.tensorflow.org/api_docs/python/tf/layers) or [TensorFlow Layers (contrib)](https://www.tensorflow.org/api_guides/python/contrib.layers) for **this** layer, but you can still use TensorFlow's [Neural Network](https://www.tensorflow.org/api_docs/python/tf/nn) package. You may still use the shortcut option for all the **other** layers."
   ]
  },
  {
   "cell_type": "code",
   "execution_count": 50,
   "metadata": {
    "collapsed": false,
    "scrolled": false
   },
   "outputs": [
    {
     "name": "stdout",
     "output_type": "stream",
     "text": [
      "Tests Passed\n"
     ]
    }
   ],
   "source": [
    "def conv2d_maxpool(x_tensor, conv_num_outputs, conv_ksize, conv_strides, pool_ksize, pool_strides):\n",
    "    \"\"\"\n",
    "    Apply convolution then max pooling to x_tensor\n",
    "    :param x_tensor: TensorFlow Tensor\n",
    "    :param conv_num_outputs: Number of outputs for the convolutional layer\n",
    "    :param conv_ksize: kernal size 2-D Tuple for the convolutional layer\n",
    "    :param conv_strides: Stride 2-D Tuple for convolution\n",
    "    :param pool_ksize: kernal size 2-D Tuple for pool\n",
    "    :param pool_strides: Stride 2-D Tuple for pool\n",
    "    : return: A tensor that represents convolution and max pooling of x_tensor\n",
    "    \"\"\"\n",
    "    input_dep = x_tensor.get_shape().as_list()[3]\n",
    "    weights = tf.Variable(tf.truncated_normal([conv_ksize[0], conv_ksize[1],input_dep , conv_num_outputs], \n",
    "                                    dtype=tf.float32,stddev=0.1))\n",
    "    bias = tf.Variable(tf.zeros(conv_num_outputs))\n",
    "    conv = tf.nn.conv2d(x_tensor,weights,strides=[1,conv_strides[0],conv_strides[1],1],padding='SAME')\n",
    "    conv = tf.nn.bias_add(conv, bias)\n",
    "    conv = tf.nn.relu(conv)\n",
    "    conv = tf.nn.max_pool(\n",
    "        conv, \n",
    "        ksize=[1, pool_ksize[0], pool_ksize[1], 1], \n",
    "        strides=[1, pool_strides[0], pool_strides[1], 1], \n",
    "        padding='SAME'\n",
    "    )\n",
    "    \n",
    "    # TODO: Implement Function\n",
    "    return conv\n",
    "    \"\"\"\n",
    "\n",
    "DON'T MODIFY ANYTHING IN THIS CELL THAT IS BELOW THIS LINE\n",
    "\"\"\"\n",
    "tests.test_con_pool(conv2d_maxpool)"
   ]
  },
  {
   "cell_type": "markdown",
   "metadata": {},
   "source": [
    "### Flatten Layer\n",
    "Implement the `flatten` function to change the dimension of `x_tensor` from a 4-D tensor to a 2-D tensor.  The output should be the shape (*Batch Size*, *Flattened Image Size*). Shortcut option: you can use classes from the [TensorFlow Layers](https://www.tensorflow.org/api_docs/python/tf/layers) or [TensorFlow Layers (contrib)](https://www.tensorflow.org/api_guides/python/contrib.layers) packages for this layer. For more of a challenge, only use other TensorFlow packages."
   ]
  },
  {
   "cell_type": "code",
   "execution_count": 51,
   "metadata": {
    "collapsed": false
   },
   "outputs": [
    {
     "name": "stdout",
     "output_type": "stream",
     "text": [
      "Tests Passed\n"
     ]
    }
   ],
   "source": [
    "def flatten(x_tensor):\n",
    "    \"\"\"\n",
    "    Flatten x_tensor to (Batch Size, Flattened Image Size)\n",
    "    : x_tensor: A tensor of size (Batch Size, ...), where ... are the image dimensions.\n",
    "    : return: A tensor of size (Batch Size, Flattened Image Size).\n",
    "    \"\"\"\n",
    "    shape = x_tensor.get_shape().as_list()\n",
    "    dim = np.prod(shape[1:])\n",
    "    return tf.reshape(x_tensor,[-1,dim])\n",
    "\n",
    "\"\"\"\n",
    "DON'T MODIFY ANYTHING IN THIS CELL THAT IS BELOW THIS LINE\n",
    "\"\"\"\n",
    "tests.test_flatten(flatten)"
   ]
  },
  {
   "cell_type": "markdown",
   "metadata": {},
   "source": [
    "### Fully-Connected Layer\n",
    "Implement the `fully_conn` function to apply a fully connected layer to `x_tensor` with the shape (*Batch Size*, *num_outputs*). Shortcut option: you can use classes from the [TensorFlow Layers](https://www.tensorflow.org/api_docs/python/tf/layers) or [TensorFlow Layers (contrib)](https://www.tensorflow.org/api_guides/python/contrib.layers) packages for this layer. For more of a challenge, only use other TensorFlow packages."
   ]
  },
  {
   "cell_type": "code",
   "execution_count": 52,
   "metadata": {
    "collapsed": false
   },
   "outputs": [
    {
     "name": "stdout",
     "output_type": "stream",
     "text": [
      "Tests Passed\n"
     ]
    }
   ],
   "source": [
    "def fully_conn(x_tensor, num_outputs):\n",
    "    \"\"\"\n",
    "    Apply a fully connected layer to x_tensor using weight and bias\n",
    "    : x_tensor: A 2-D tensor where the first dimension is batch size.\n",
    "    : num_outputs: The number of output that the new tensor should be.\n",
    "    : return: A 2-D tensor where the second dimension is num_outputs.\n",
    "    \"\"\"\n",
    "    weight_shape = (int(x_tensor.get_shape().as_list()[1]), num_outputs)\n",
    "    weight = tf.Variable(tf.random_normal(weight_shape, stddev=0.1))\n",
    "    bias = tf.Variable(tf.zeros(num_outputs))\n",
    "    layer1 = tf.add(tf.matmul(x_tensor, weight), bias)\n",
    "    layer2 = tf.nn.relu(layer1)\n",
    "    return layer2\n",
    "\n",
    "\n",
    "\"\"\"\n",
    "DON'T MODIFY ANYTHING IN THIS CELL THAT IS BELOW THIS LINE\n",
    "\"\"\"\n",
    "tests.test_fully_conn(fully_conn)"
   ]
  },
  {
   "cell_type": "markdown",
   "metadata": {},
   "source": [
    "### Output Layer\n",
    "Implement the `output` function to apply a fully connected layer to `x_tensor` with the shape (*Batch Size*, *num_outputs*). Shortcut option: you can use classes from the [TensorFlow Layers](https://www.tensorflow.org/api_docs/python/tf/layers) or [TensorFlow Layers (contrib)](https://www.tensorflow.org/api_guides/python/contrib.layers) packages for this layer. For more of a challenge, only use other TensorFlow packages.\n",
    "\n",
    "**Note:** Activation, softmax, or cross entropy should **not** be applied to this."
   ]
  },
  {
   "cell_type": "code",
   "execution_count": 53,
   "metadata": {
    "collapsed": false
   },
   "outputs": [
    {
     "name": "stdout",
     "output_type": "stream",
     "text": [
      "Tests Passed\n"
     ]
    }
   ],
   "source": [
    "def output(x_tensor, num_outputs):\n",
    "    \"\"\"\n",
    "    Apply a output layer to x_tensor using weight and bias\n",
    "    : x_tensor: A 2-D tensor where the first dimension is batch size.\n",
    "    : num_outputs: The number of output that the new tensor should be.\n",
    "    : return: A 2-D tensor where the second dimension is num_outputs.\n",
    "    \"\"\"\n",
    "    # TODO: Implement Function\n",
    "    weight_shape = [int(x_tensor.get_shape().as_list()[1]), num_outputs]\n",
    "    weight = tf.Variable(tf.random_normal(weight_shape, stddev=0.1))\n",
    "    bias = tf.Variable(tf.zeros(num_outputs))\n",
    "    output_layer = tf.add(tf.matmul(x_tensor, weight), bias)\n",
    "    return output_layer\n",
    "\n",
    "\n",
    "\"\"\"\n",
    "DON'T MODIFY ANYTHING IN THIS CELL THAT IS BELOW THIS LINE\n",
    "\"\"\"\n",
    "tests.test_output(output)"
   ]
  },
  {
   "cell_type": "markdown",
   "metadata": {},
   "source": [
    "### Create Convolutional Model\n",
    "Implement the function `conv_net` to create a convolutional neural network model. The function takes in a batch of images, `x`, and outputs logits.  Use the layers you created above to create this model:\n",
    "\n",
    "* Apply 1, 2, or 3 Convolution and Max Pool layers\n",
    "* Apply a Flatten Layer\n",
    "* Apply 1, 2, or 3 Fully Connected Layers\n",
    "* Apply an Output Layer\n",
    "* Return the output\n",
    "* Apply [TensorFlow's Dropout](https://www.tensorflow.org/api_docs/python/tf/nn/dropout) to one or more layers in the model using `keep_prob`. "
   ]
  },
  {
   "cell_type": "code",
   "execution_count": 68,
   "metadata": {
    "collapsed": false
   },
   "outputs": [
    {
     "name": "stdout",
     "output_type": "stream",
     "text": [
      "Neural Network Built!\n"
     ]
    }
   ],
   "source": [
    "def conv_net(x, keep_prob):\n",
    "    \"\"\"\n",
    "    Create a convolutional neural network model\n",
    "    : x: Placeholder tensor that holds image data.\n",
    "    : keep_prob: Placeholder tensor that hold dropout keep probability.\n",
    "    : return: Tensor that represents logits\n",
    "    \"\"\"\n",
    "    # TODO: Apply 1, 2, or 3 Convolution and Max Pool layers\n",
    "    #    Play around with different number of outputs, kernel size and stride\n",
    "    # Function Definition from Above:\n",
    "    # conv2d_maxpool(x_tensor, conv_num_outputs, conv_ksize, conv_strides, pool_ksize, pool_strides)\n",
    "    x = conv2d_maxpool(x, 20, (4,4), (2,2), (2,2), (2,2))\n",
    "    x = conv2d_maxpool(x, 20, (3,3), (1,1), (2,2), (2,2))\n",
    "\n",
    "    # TODO: Apply a Flatten Layer\n",
    "    # Function Definition from Above:\n",
    "    #   flatten(x_tensor)\n",
    "    x = flatten(x)\n",
    "\n",
    "    # TODO: Apply 1, 2, or 3 Fully Connected Layers\n",
    "    #    Play around with different number of outputs\n",
    "    # Function Definition from Above:\n",
    "    #   fully_conn(x_tensor, num_outputs)\n",
    "    x = fully_conn(x, 512)\n",
    "    x = tf.nn.dropout(x, keep_prob)\n",
    "    x = fully_conn(x, 256)\n",
    "    x = tf.nn.dropout(x, keep_prob)\n",
    "    \n",
    "    # TODO: Apply an Output Layer\n",
    "    #    Set this to the number of classes\n",
    "    # Function Definition from Above:\n",
    "    #   output(x_tensor, num_outputs)\n",
    "    x = output(x,10)\n",
    "    \n",
    "    # TODO: return output\n",
    "    return x \n",
    "\n",
    "\n",
    "\"\"\"\n",
    "DON'T MODIFY ANYTHING IN THIS CELL THAT IS BELOW THIS LINE\n",
    "\"\"\"\n",
    "\n",
    "##############################\n",
    "## Build the Neural Network ##\n",
    "##############################\n",
    "\n",
    "# Remove previous weights, bias, inputs, etc..\n",
    "tf.reset_default_graph()\n",
    "\n",
    "# Inputs\n",
    "x = neural_net_image_input((32, 32, 3))\n",
    "y = neural_net_label_input(10)\n",
    "keep_prob = neural_net_keep_prob_input()\n",
    "\n",
    "# Model\n",
    "logits = conv_net(x, keep_prob)\n",
    "\n",
    "# Name logits Tensor, so that is can be loaded from disk after training\n",
    "logits = tf.identity(logits, name='logits')\n",
    "\n",
    "# Loss and Optimizer\n",
    "cost = tf.reduce_mean(tf.nn.softmax_cross_entropy_with_logits(logits=logits, labels=y))\n",
    "optimizer = tf.train.AdamOptimizer().minimize(cost)\n",
    "\n",
    "# Accuracy\n",
    "correct_pred = tf.equal(tf.argmax(logits, 1), tf.argmax(y, 1))\n",
    "accuracy = tf.reduce_mean(tf.cast(correct_pred, tf.float32), name='accuracy')\n",
    "\n",
    "tests.test_conv_net(conv_net)"
   ]
  },
  {
   "cell_type": "markdown",
   "metadata": {},
   "source": [
    "## Train the Neural Network\n",
    "### Single Optimization\n",
    "Implement the function `train_neural_network` to do a single optimization.  The optimization should use `optimizer` to optimize in `session` with a `feed_dict` of the following:\n",
    "* `x` for image input\n",
    "* `y` for labels\n",
    "* `keep_prob` for keep probability for dropout\n",
    "\n",
    "This function will be called for each batch, so `tf.global_variables_initializer()` has already been called.\n",
    "\n",
    "Note: Nothing needs to be returned. This function is only optimizing the neural network."
   ]
  },
  {
   "cell_type": "code",
   "execution_count": 69,
   "metadata": {
    "collapsed": false
   },
   "outputs": [
    {
     "name": "stdout",
     "output_type": "stream",
     "text": [
      "Tests Passed\n"
     ]
    }
   ],
   "source": [
    "def train_neural_network(session, optimizer, keep_probability, feature_batch, label_batch):\n",
    "    \"\"\"\n",
    "    Optimize the session on a batch of images and labels\n",
    "    : session: Current TensorFlow session\n",
    "    : optimizer: TensorFlow optimizer function\n",
    "    : keep_probability: keep probability\n",
    "    : feature_batch: Batch of Numpy image data\n",
    "    : label_batch: Batch of Numpy label data\n",
    "    \"\"\"\n",
    "    # TODO: Implement Function\n",
    "    session.run(optimizer, feed_dict={\n",
    "        x: feature_batch,\n",
    "        y: label_batch,\n",
    "        keep_prob: keep_probability\n",
    "    })\n",
    "\n",
    "\n",
    "\n",
    "\"\"\"\n",
    "DON'T MODIFY ANYTHING IN THIS CELL THAT IS BELOW THIS LINE\n",
    "\"\"\"\n",
    "tests.test_train_nn(train_neural_network)"
   ]
  },
  {
   "cell_type": "markdown",
   "metadata": {},
   "source": [
    "### Show Stats\n",
    "Implement the function `print_stats` to print loss and validation accuracy.  Use the global variables `valid_features` and `valid_labels` to calculate validation accuracy.  Use a keep probability of `1.0` to calculate the loss and validation accuracy."
   ]
  },
  {
   "cell_type": "code",
   "execution_count": 70,
   "metadata": {
    "collapsed": false
   },
   "outputs": [],
   "source": [
    "def print_stats(session, feature_batch, label_batch, cost, accuracy):\n",
    "    \"\"\"\n",
    "    Print information about loss and validation accuracy\n",
    "    : session: Current TensorFlow session\n",
    "    : feature_batch: Batch of Numpy image data\n",
    "    : label_batch: Batch of Numpy label data\n",
    "    : cost: TensorFlow cost function\n",
    "    : accuracy: TensorFlow accuracy function\n",
    "    \"\"\"\n",
    "    loss_value = session.run(cost, feed_dict={x: feature_batch,y: label_batch,keep_prob: 1.0})\n",
    "    \n",
    "    val_accuracy = session.run(accuracy, feed_dict={x: valid_features,y: valid_labels,keep_prob: 1.0})\n",
    "    print('Loss Value: {:>10.5f} Validation of Accuracy: {:.5f}'.format(loss_value, val_accuracy))"
   ]
  },
  {
   "cell_type": "markdown",
   "metadata": {},
   "source": [
    "### Hyperparameters\n",
    "Tune the following parameters:\n",
    "* Set `epochs` to the number of iterations until the network stops learning or start overfitting\n",
    "* Set `batch_size` to the highest number that your machine has memory for.  Most people set them to common sizes of memory:\n",
    " * 64\n",
    " * 128\n",
    " * 256\n",
    " * ...\n",
    "* Set `keep_probability` to the probability of keeping a node using dropout"
   ]
  },
  {
   "cell_type": "code",
   "execution_count": 71,
   "metadata": {
    "collapsed": true
   },
   "outputs": [],
   "source": [
    "# TODO: Tune Parameters\n",
    "epochs = 50\n",
    "batch_size = 256\n",
    "keep_probability = 0.6"
   ]
  },
  {
   "cell_type": "markdown",
   "metadata": {},
   "source": [
    "### Train on a Single CIFAR-10 Batch\n",
    "Instead of training the neural network on all the CIFAR-10 batches of data, let's use a single batch. This should save time while you iterate on the model to get a better accuracy.  Once the final validation accuracy is 50% or greater, run the model on all the data in the next section."
   ]
  },
  {
   "cell_type": "code",
   "execution_count": 72,
   "metadata": {
    "collapsed": false
   },
   "outputs": [
    {
     "name": "stdout",
     "output_type": "stream",
     "text": [
      "Checking the Training on a Single Batch...\n",
      "Epoch  1, CIFAR-10 Batch 1:  Loss Value:    2.13846 Validation of Accuracy: 0.27700\n",
      "Epoch  2, CIFAR-10 Batch 1:  Loss Value:    1.93616 Validation of Accuracy: 0.38740\n",
      "Epoch  3, CIFAR-10 Batch 1:  Loss Value:    1.71176 Validation of Accuracy: 0.42220\n",
      "Epoch  4, CIFAR-10 Batch 1:  Loss Value:    1.59053 Validation of Accuracy: 0.43080\n",
      "Epoch  5, CIFAR-10 Batch 1:  Loss Value:    1.43272 Validation of Accuracy: 0.46000\n",
      "Epoch  6, CIFAR-10 Batch 1:  Loss Value:    1.31655 Validation of Accuracy: 0.47660\n",
      "Epoch  7, CIFAR-10 Batch 1:  Loss Value:    1.21962 Validation of Accuracy: 0.48260\n",
      "Epoch  8, CIFAR-10 Batch 1:  Loss Value:    1.07797 Validation of Accuracy: 0.49820\n",
      "Epoch  9, CIFAR-10 Batch 1:  Loss Value:    0.98599 Validation of Accuracy: 0.50000\n",
      "Epoch 10, CIFAR-10 Batch 1:  Loss Value:    0.87531 Validation of Accuracy: 0.51940\n",
      "Epoch 11, CIFAR-10 Batch 1:  Loss Value:    0.78829 Validation of Accuracy: 0.52600\n",
      "Epoch 12, CIFAR-10 Batch 1:  Loss Value:    0.74580 Validation of Accuracy: 0.53160\n",
      "Epoch 13, CIFAR-10 Batch 1:  Loss Value:    0.68785 Validation of Accuracy: 0.53060\n",
      "Epoch 14, CIFAR-10 Batch 1:  Loss Value:    0.60041 Validation of Accuracy: 0.53680\n",
      "Epoch 15, CIFAR-10 Batch 1:  Loss Value:    0.61590 Validation of Accuracy: 0.50080\n",
      "Epoch 16, CIFAR-10 Batch 1:  Loss Value:    0.49165 Validation of Accuracy: 0.54980\n",
      "Epoch 17, CIFAR-10 Batch 1:  Loss Value:    0.48485 Validation of Accuracy: 0.55220\n",
      "Epoch 18, CIFAR-10 Batch 1:  Loss Value:    0.41645 Validation of Accuracy: 0.55700\n",
      "Epoch 19, CIFAR-10 Batch 1:  Loss Value:    0.37656 Validation of Accuracy: 0.55300\n",
      "Epoch 20, CIFAR-10 Batch 1:  Loss Value:    0.29681 Validation of Accuracy: 0.54980\n",
      "Epoch 21, CIFAR-10 Batch 1:  Loss Value:    0.28683 Validation of Accuracy: 0.56260\n",
      "Epoch 22, CIFAR-10 Batch 1:  Loss Value:    0.26381 Validation of Accuracy: 0.56360\n",
      "Epoch 23, CIFAR-10 Batch 1:  Loss Value:    0.22514 Validation of Accuracy: 0.55460\n",
      "Epoch 24, CIFAR-10 Batch 1:  Loss Value:    0.19724 Validation of Accuracy: 0.56220\n",
      "Epoch 25, CIFAR-10 Batch 1:  Loss Value:    0.21875 Validation of Accuracy: 0.54820\n",
      "Epoch 26, CIFAR-10 Batch 1:  Loss Value:    0.16649 Validation of Accuracy: 0.55340\n",
      "Epoch 27, CIFAR-10 Batch 1:  Loss Value:    0.16617 Validation of Accuracy: 0.55160\n",
      "Epoch 28, CIFAR-10 Batch 1:  Loss Value:    0.18229 Validation of Accuracy: 0.53640\n",
      "Epoch 29, CIFAR-10 Batch 1:  Loss Value:    0.14271 Validation of Accuracy: 0.55260\n",
      "Epoch 30, CIFAR-10 Batch 1:  Loss Value:    0.10742 Validation of Accuracy: 0.55380\n",
      "Epoch 31, CIFAR-10 Batch 1:  Loss Value:    0.09955 Validation of Accuracy: 0.55860\n",
      "Epoch 32, CIFAR-10 Batch 1:  Loss Value:    0.10932 Validation of Accuracy: 0.53120\n",
      "Epoch 33, CIFAR-10 Batch 1:  Loss Value:    0.09278 Validation of Accuracy: 0.54880\n",
      "Epoch 34, CIFAR-10 Batch 1:  Loss Value:    0.06354 Validation of Accuracy: 0.56560\n",
      "Epoch 35, CIFAR-10 Batch 1:  Loss Value:    0.05837 Validation of Accuracy: 0.56680\n",
      "Epoch 36, CIFAR-10 Batch 1:  Loss Value:    0.04714 Validation of Accuracy: 0.56260\n",
      "Epoch 37, CIFAR-10 Batch 1:  Loss Value:    0.05174 Validation of Accuracy: 0.55620\n",
      "Epoch 38, CIFAR-10 Batch 1:  Loss Value:    0.04480 Validation of Accuracy: 0.56080\n",
      "Epoch 39, CIFAR-10 Batch 1:  Loss Value:    0.05707 Validation of Accuracy: 0.55220\n",
      "Epoch 40, CIFAR-10 Batch 1:  Loss Value:    0.05316 Validation of Accuracy: 0.55860\n",
      "Epoch 41, CIFAR-10 Batch 1:  Loss Value:    0.04567 Validation of Accuracy: 0.57060\n",
      "Epoch 42, CIFAR-10 Batch 1:  Loss Value:    0.03897 Validation of Accuracy: 0.56740\n",
      "Epoch 43, CIFAR-10 Batch 1:  Loss Value:    0.03123 Validation of Accuracy: 0.57260\n",
      "Epoch 44, CIFAR-10 Batch 1:  Loss Value:    0.02743 Validation of Accuracy: 0.57340\n",
      "Epoch 45, CIFAR-10 Batch 1:  Loss Value:    0.02407 Validation of Accuracy: 0.57460\n",
      "Epoch 46, CIFAR-10 Batch 1:  Loss Value:    0.02330 Validation of Accuracy: 0.57100\n",
      "Epoch 47, CIFAR-10 Batch 1:  Loss Value:    0.02052 Validation of Accuracy: 0.57020\n",
      "Epoch 48, CIFAR-10 Batch 1:  Loss Value:    0.02330 Validation of Accuracy: 0.57900\n",
      "Epoch 49, CIFAR-10 Batch 1:  Loss Value:    0.02074 Validation of Accuracy: 0.55460\n",
      "Epoch 50, CIFAR-10 Batch 1:  Loss Value:    0.01543 Validation of Accuracy: 0.56180\n"
     ]
    }
   ],
   "source": [
    "\"\"\"\n",
    "DON'T MODIFY ANYTHING IN THIS CELL\n",
    "\"\"\"\n",
    "print('Checking the Training on a Single Batch...')\n",
    "with tf.Session() as sess:\n",
    "    # Initializing the variables\n",
    "    sess.run(tf.global_variables_initializer())\n",
    "    \n",
    "    # Training cycle\n",
    "    for epoch in range(epochs):\n",
    "        batch_i = 1\n",
    "        for batch_features, batch_labels in helper.load_preprocess_training_batch(batch_i, batch_size):\n",
    "            train_neural_network(sess, optimizer, keep_probability, batch_features, batch_labels)\n",
    "        print('Epoch {:>2}, CIFAR-10 Batch {}:  '.format(epoch + 1, batch_i), end='')\n",
    "        print_stats(sess, batch_features, batch_labels, cost, accuracy)"
   ]
  },
  {
   "cell_type": "markdown",
   "metadata": {},
   "source": [
    "### Fully Train the Model\n",
    "Now that you got a good accuracy with a single CIFAR-10 batch, try it with all five batches."
   ]
  },
  {
   "cell_type": "code",
   "execution_count": 73,
   "metadata": {
    "collapsed": false
   },
   "outputs": [
    {
     "name": "stdout",
     "output_type": "stream",
     "text": [
      "Training...\n",
      "Epoch  1, CIFAR-10 Batch 1:  Loss Value:    2.12629 Validation of Accuracy: 0.30240\n",
      "Epoch  1, CIFAR-10 Batch 2:  Loss Value:    1.82454 Validation of Accuracy: 0.37140\n",
      "Epoch  1, CIFAR-10 Batch 3:  Loss Value:    1.59310 Validation of Accuracy: 0.39120\n",
      "Epoch  1, CIFAR-10 Batch 4:  Loss Value:    1.58616 Validation of Accuracy: 0.42320\n",
      "Epoch  1, CIFAR-10 Batch 5:  Loss Value:    1.63692 Validation of Accuracy: 0.43940\n",
      "Epoch  2, CIFAR-10 Batch 1:  Loss Value:    1.59815 Validation of Accuracy: 0.45340\n",
      "Epoch  2, CIFAR-10 Batch 2:  Loss Value:    1.46531 Validation of Accuracy: 0.46680\n",
      "Epoch  2, CIFAR-10 Batch 3:  Loss Value:    1.16562 Validation of Accuracy: 0.47100\n",
      "Epoch  2, CIFAR-10 Batch 4:  Loss Value:    1.33565 Validation of Accuracy: 0.48680\n",
      "Epoch  2, CIFAR-10 Batch 5:  Loss Value:    1.39033 Validation of Accuracy: 0.49960\n",
      "Epoch  3, CIFAR-10 Batch 1:  Loss Value:    1.38700 Validation of Accuracy: 0.51120\n",
      "Epoch  3, CIFAR-10 Batch 2:  Loss Value:    1.21367 Validation of Accuracy: 0.51420\n",
      "Epoch  3, CIFAR-10 Batch 3:  Loss Value:    0.96586 Validation of Accuracy: 0.51260\n",
      "Epoch  3, CIFAR-10 Batch 4:  Loss Value:    1.15497 Validation of Accuracy: 0.52440\n",
      "Epoch  3, CIFAR-10 Batch 5:  Loss Value:    1.15242 Validation of Accuracy: 0.53240\n",
      "Epoch  4, CIFAR-10 Batch 1:  Loss Value:    1.17547 Validation of Accuracy: 0.53380\n",
      "Epoch  4, CIFAR-10 Batch 2:  Loss Value:    1.06814 Validation of Accuracy: 0.54400\n",
      "Epoch  4, CIFAR-10 Batch 3:  Loss Value:    0.88219 Validation of Accuracy: 0.53300\n",
      "Epoch  4, CIFAR-10 Batch 4:  Loss Value:    0.99377 Validation of Accuracy: 0.55340\n",
      "Epoch  4, CIFAR-10 Batch 5:  Loss Value:    1.08036 Validation of Accuracy: 0.55560\n",
      "Epoch  5, CIFAR-10 Batch 1:  Loss Value:    1.01434 Validation of Accuracy: 0.56120\n",
      "Epoch  5, CIFAR-10 Batch 2:  Loss Value:    0.92707 Validation of Accuracy: 0.55880\n",
      "Epoch  5, CIFAR-10 Batch 3:  Loss Value:    0.73482 Validation of Accuracy: 0.56100\n",
      "Epoch  5, CIFAR-10 Batch 4:  Loss Value:    0.87108 Validation of Accuracy: 0.55160\n",
      "Epoch  5, CIFAR-10 Batch 5:  Loss Value:    0.97075 Validation of Accuracy: 0.56680\n",
      "Epoch  6, CIFAR-10 Batch 1:  Loss Value:    0.95966 Validation of Accuracy: 0.57400\n",
      "Epoch  6, CIFAR-10 Batch 2:  Loss Value:    0.80267 Validation of Accuracy: 0.57080\n",
      "Epoch  6, CIFAR-10 Batch 3:  Loss Value:    0.67903 Validation of Accuracy: 0.57940\n",
      "Epoch  6, CIFAR-10 Batch 4:  Loss Value:    0.78640 Validation of Accuracy: 0.57420\n",
      "Epoch  6, CIFAR-10 Batch 5:  Loss Value:    0.82721 Validation of Accuracy: 0.58500\n",
      "Epoch  7, CIFAR-10 Batch 1:  Loss Value:    0.84694 Validation of Accuracy: 0.58360\n",
      "Epoch  7, CIFAR-10 Batch 2:  Loss Value:    0.75723 Validation of Accuracy: 0.59140\n",
      "Epoch  7, CIFAR-10 Batch 3:  Loss Value:    0.57935 Validation of Accuracy: 0.59220\n",
      "Epoch  7, CIFAR-10 Batch 4:  Loss Value:    0.67607 Validation of Accuracy: 0.58760\n",
      "Epoch  7, CIFAR-10 Batch 5:  Loss Value:    0.74152 Validation of Accuracy: 0.60540\n",
      "Epoch  8, CIFAR-10 Batch 1:  Loss Value:    0.76184 Validation of Accuracy: 0.59500\n",
      "Epoch  8, CIFAR-10 Batch 2:  Loss Value:    0.67117 Validation of Accuracy: 0.60780\n",
      "Epoch  8, CIFAR-10 Batch 3:  Loss Value:    0.53367 Validation of Accuracy: 0.59780\n",
      "Epoch  8, CIFAR-10 Batch 4:  Loss Value:    0.59238 Validation of Accuracy: 0.59140\n",
      "Epoch  8, CIFAR-10 Batch 5:  Loss Value:    0.66388 Validation of Accuracy: 0.60480\n",
      "Epoch  9, CIFAR-10 Batch 1:  Loss Value:    0.65610 Validation of Accuracy: 0.60660\n",
      "Epoch  9, CIFAR-10 Batch 2:  Loss Value:    0.61924 Validation of Accuracy: 0.61160\n",
      "Epoch  9, CIFAR-10 Batch 3:  Loss Value:    0.48229 Validation of Accuracy: 0.60820\n",
      "Epoch  9, CIFAR-10 Batch 4:  Loss Value:    0.50663 Validation of Accuracy: 0.60640\n",
      "Epoch  9, CIFAR-10 Batch 5:  Loss Value:    0.60848 Validation of Accuracy: 0.61260\n",
      "Epoch 10, CIFAR-10 Batch 1:  Loss Value:    0.61714 Validation of Accuracy: 0.60520\n",
      "Epoch 10, CIFAR-10 Batch 2:  Loss Value:    0.56076 Validation of Accuracy: 0.61760\n",
      "Epoch 10, CIFAR-10 Batch 3:  Loss Value:    0.46791 Validation of Accuracy: 0.60660\n",
      "Epoch 10, CIFAR-10 Batch 4:  Loss Value:    0.44591 Validation of Accuracy: 0.62660\n",
      "Epoch 10, CIFAR-10 Batch 5:  Loss Value:    0.55077 Validation of Accuracy: 0.61060\n",
      "Epoch 11, CIFAR-10 Batch 1:  Loss Value:    0.54254 Validation of Accuracy: 0.61180\n",
      "Epoch 11, CIFAR-10 Batch 2:  Loss Value:    0.51103 Validation of Accuracy: 0.62560\n",
      "Epoch 11, CIFAR-10 Batch 3:  Loss Value:    0.40444 Validation of Accuracy: 0.61680\n",
      "Epoch 11, CIFAR-10 Batch 4:  Loss Value:    0.43387 Validation of Accuracy: 0.63300\n",
      "Epoch 11, CIFAR-10 Batch 5:  Loss Value:    0.48263 Validation of Accuracy: 0.62260\n",
      "Epoch 12, CIFAR-10 Batch 1:  Loss Value:    0.54433 Validation of Accuracy: 0.60940\n",
      "Epoch 12, CIFAR-10 Batch 2:  Loss Value:    0.47469 Validation of Accuracy: 0.63840\n",
      "Epoch 12, CIFAR-10 Batch 3:  Loss Value:    0.36323 Validation of Accuracy: 0.62060\n",
      "Epoch 12, CIFAR-10 Batch 4:  Loss Value:    0.39827 Validation of Accuracy: 0.62760\n",
      "Epoch 12, CIFAR-10 Batch 5:  Loss Value:    0.42538 Validation of Accuracy: 0.63200\n",
      "Epoch 13, CIFAR-10 Batch 1:  Loss Value:    0.47112 Validation of Accuracy: 0.62580\n",
      "Epoch 13, CIFAR-10 Batch 2:  Loss Value:    0.41351 Validation of Accuracy: 0.63520\n",
      "Epoch 13, CIFAR-10 Batch 3:  Loss Value:    0.35807 Validation of Accuracy: 0.62560\n",
      "Epoch 13, CIFAR-10 Batch 4:  Loss Value:    0.32786 Validation of Accuracy: 0.64100\n",
      "Epoch 13, CIFAR-10 Batch 5:  Loss Value:    0.39500 Validation of Accuracy: 0.64160\n",
      "Epoch 14, CIFAR-10 Batch 1:  Loss Value:    0.44088 Validation of Accuracy: 0.62100\n",
      "Epoch 14, CIFAR-10 Batch 2:  Loss Value:    0.37508 Validation of Accuracy: 0.64760\n",
      "Epoch 14, CIFAR-10 Batch 3:  Loss Value:    0.31387 Validation of Accuracy: 0.63140\n",
      "Epoch 14, CIFAR-10 Batch 4:  Loss Value:    0.34070 Validation of Accuracy: 0.64580\n",
      "Epoch 14, CIFAR-10 Batch 5:  Loss Value:    0.31020 Validation of Accuracy: 0.64500\n",
      "Epoch 15, CIFAR-10 Batch 1:  Loss Value:    0.36767 Validation of Accuracy: 0.63900\n",
      "Epoch 15, CIFAR-10 Batch 2:  Loss Value:    0.34179 Validation of Accuracy: 0.65200\n",
      "Epoch 15, CIFAR-10 Batch 3:  Loss Value:    0.29020 Validation of Accuracy: 0.63440\n",
      "Epoch 15, CIFAR-10 Batch 4:  Loss Value:    0.28425 Validation of Accuracy: 0.64460\n",
      "Epoch 15, CIFAR-10 Batch 5:  Loss Value:    0.30765 Validation of Accuracy: 0.65020\n",
      "Epoch 16, CIFAR-10 Batch 1:  Loss Value:    0.33503 Validation of Accuracy: 0.64940\n",
      "Epoch 16, CIFAR-10 Batch 2:  Loss Value:    0.32317 Validation of Accuracy: 0.66540\n",
      "Epoch 16, CIFAR-10 Batch 3:  Loss Value:    0.25514 Validation of Accuracy: 0.63620\n",
      "Epoch 16, CIFAR-10 Batch 4:  Loss Value:    0.25660 Validation of Accuracy: 0.64920\n",
      "Epoch 16, CIFAR-10 Batch 5:  Loss Value:    0.26344 Validation of Accuracy: 0.65320\n",
      "Epoch 17, CIFAR-10 Batch 1:  Loss Value:    0.29763 Validation of Accuracy: 0.64800\n",
      "Epoch 17, CIFAR-10 Batch 2:  Loss Value:    0.29481 Validation of Accuracy: 0.66420\n",
      "Epoch 17, CIFAR-10 Batch 3:  Loss Value:    0.24988 Validation of Accuracy: 0.65300\n",
      "Epoch 17, CIFAR-10 Batch 4:  Loss Value:    0.24686 Validation of Accuracy: 0.65080\n",
      "Epoch 17, CIFAR-10 Batch 5:  Loss Value:    0.25231 Validation of Accuracy: 0.65540\n",
      "Epoch 18, CIFAR-10 Batch 1:  Loss Value:    0.26674 Validation of Accuracy: 0.65420\n",
      "Epoch 18, CIFAR-10 Batch 2:  Loss Value:    0.26380 Validation of Accuracy: 0.66540\n",
      "Epoch 18, CIFAR-10 Batch 3:  Loss Value:    0.24671 Validation of Accuracy: 0.65120\n",
      "Epoch 18, CIFAR-10 Batch 4:  Loss Value:    0.22729 Validation of Accuracy: 0.65740\n",
      "Epoch 18, CIFAR-10 Batch 5:  Loss Value:    0.22747 Validation of Accuracy: 0.65220\n",
      "Epoch 19, CIFAR-10 Batch 1:  Loss Value:    0.25907 Validation of Accuracy: 0.65740\n",
      "Epoch 19, CIFAR-10 Batch 2:  Loss Value:    0.26183 Validation of Accuracy: 0.67480\n",
      "Epoch 19, CIFAR-10 Batch 3:  Loss Value:    0.23474 Validation of Accuracy: 0.65440\n",
      "Epoch 19, CIFAR-10 Batch 4:  Loss Value:    0.19801 Validation of Accuracy: 0.65960\n",
      "Epoch 19, CIFAR-10 Batch 5:  Loss Value:    0.20719 Validation of Accuracy: 0.66500\n",
      "Epoch 20, CIFAR-10 Batch 1:  Loss Value:    0.23140 Validation of Accuracy: 0.66040\n",
      "Epoch 20, CIFAR-10 Batch 2:  Loss Value:    0.22219 Validation of Accuracy: 0.66700\n",
      "Epoch 20, CIFAR-10 Batch 3:  Loss Value:    0.18981 Validation of Accuracy: 0.66780\n",
      "Epoch 20, CIFAR-10 Batch 4:  Loss Value:    0.18364 Validation of Accuracy: 0.66080\n",
      "Epoch 20, CIFAR-10 Batch 5:  Loss Value:    0.19219 Validation of Accuracy: 0.65120\n",
      "Epoch 21, CIFAR-10 Batch 1:  Loss Value:    0.24295 Validation of Accuracy: 0.66160\n",
      "Epoch 21, CIFAR-10 Batch 2:  Loss Value:    0.20243 Validation of Accuracy: 0.65780\n",
      "Epoch 21, CIFAR-10 Batch 3:  Loss Value:    0.18336 Validation of Accuracy: 0.65400\n",
      "Epoch 21, CIFAR-10 Batch 4:  Loss Value:    0.16387 Validation of Accuracy: 0.66660\n",
      "Epoch 21, CIFAR-10 Batch 5:  Loss Value:    0.16428 Validation of Accuracy: 0.67160\n",
      "Epoch 22, CIFAR-10 Batch 1:  Loss Value:    0.24349 Validation of Accuracy: 0.66300\n",
      "Epoch 22, CIFAR-10 Batch 2:  Loss Value:    0.23903 Validation of Accuracy: 0.66400\n",
      "Epoch 22, CIFAR-10 Batch 3:  Loss Value:    0.17054 Validation of Accuracy: 0.66460\n",
      "Epoch 22, CIFAR-10 Batch 4:  Loss Value:    0.12759 Validation of Accuracy: 0.67020\n",
      "Epoch 22, CIFAR-10 Batch 5:  Loss Value:    0.14954 Validation of Accuracy: 0.67780\n",
      "Epoch 23, CIFAR-10 Batch 1:  Loss Value:    0.19232 Validation of Accuracy: 0.67060\n",
      "Epoch 23, CIFAR-10 Batch 2:  Loss Value:    0.21685 Validation of Accuracy: 0.65900\n",
      "Epoch 23, CIFAR-10 Batch 3:  Loss Value:    0.14181 Validation of Accuracy: 0.66200\n",
      "Epoch 23, CIFAR-10 Batch 4:  Loss Value:    0.13418 Validation of Accuracy: 0.67120\n",
      "Epoch 23, CIFAR-10 Batch 5:  Loss Value:    0.15070 Validation of Accuracy: 0.67160\n",
      "Epoch 24, CIFAR-10 Batch 1:  Loss Value:    0.16859 Validation of Accuracy: 0.66740\n",
      "Epoch 24, CIFAR-10 Batch 2:  Loss Value:    0.19972 Validation of Accuracy: 0.65860\n",
      "Epoch 24, CIFAR-10 Batch 3:  Loss Value:    0.14326 Validation of Accuracy: 0.66880\n",
      "Epoch 24, CIFAR-10 Batch 4:  Loss Value:    0.11212 Validation of Accuracy: 0.67500\n",
      "Epoch 24, CIFAR-10 Batch 5:  Loss Value:    0.13567 Validation of Accuracy: 0.67880\n",
      "Epoch 25, CIFAR-10 Batch 1:  Loss Value:    0.15852 Validation of Accuracy: 0.67480\n",
      "Epoch 25, CIFAR-10 Batch 2:  Loss Value:    0.16628 Validation of Accuracy: 0.66520\n",
      "Epoch 25, CIFAR-10 Batch 3:  Loss Value:    0.13747 Validation of Accuracy: 0.67240\n",
      "Epoch 25, CIFAR-10 Batch 4:  Loss Value:    0.12447 Validation of Accuracy: 0.67900\n",
      "Epoch 25, CIFAR-10 Batch 5:  Loss Value:    0.12714 Validation of Accuracy: 0.67900\n",
      "Epoch 26, CIFAR-10 Batch 1:  Loss Value:    0.15119 Validation of Accuracy: 0.67860\n",
      "Epoch 26, CIFAR-10 Batch 2:  Loss Value:    0.13393 Validation of Accuracy: 0.67160\n",
      "Epoch 26, CIFAR-10 Batch 3:  Loss Value:    0.12217 Validation of Accuracy: 0.66700\n",
      "Epoch 26, CIFAR-10 Batch 4:  Loss Value:    0.10025 Validation of Accuracy: 0.67940\n",
      "Epoch 26, CIFAR-10 Batch 5:  Loss Value:    0.11098 Validation of Accuracy: 0.68000\n",
      "Epoch 27, CIFAR-10 Batch 1:  Loss Value:    0.13895 Validation of Accuracy: 0.67560\n",
      "Epoch 27, CIFAR-10 Batch 2:  Loss Value:    0.11180 Validation of Accuracy: 0.67440\n",
      "Epoch 27, CIFAR-10 Batch 3:  Loss Value:    0.11817 Validation of Accuracy: 0.67000\n",
      "Epoch 27, CIFAR-10 Batch 4:  Loss Value:    0.07498 Validation of Accuracy: 0.67420\n",
      "Epoch 27, CIFAR-10 Batch 5:  Loss Value:    0.10529 Validation of Accuracy: 0.67980\n",
      "Epoch 28, CIFAR-10 Batch 1:  Loss Value:    0.12425 Validation of Accuracy: 0.68140\n",
      "Epoch 28, CIFAR-10 Batch 2:  Loss Value:    0.12157 Validation of Accuracy: 0.66920\n",
      "Epoch 28, CIFAR-10 Batch 3:  Loss Value:    0.10283 Validation of Accuracy: 0.67540\n",
      "Epoch 28, CIFAR-10 Batch 4:  Loss Value:    0.07294 Validation of Accuracy: 0.69000\n",
      "Epoch 28, CIFAR-10 Batch 5:  Loss Value:    0.09629 Validation of Accuracy: 0.66800\n",
      "Epoch 29, CIFAR-10 Batch 1:  Loss Value:    0.11286 Validation of Accuracy: 0.68420\n",
      "Epoch 29, CIFAR-10 Batch 2:  Loss Value:    0.13208 Validation of Accuracy: 0.66400\n",
      "Epoch 29, CIFAR-10 Batch 3:  Loss Value:    0.11036 Validation of Accuracy: 0.67660\n",
      "Epoch 29, CIFAR-10 Batch 4:  Loss Value:    0.07001 Validation of Accuracy: 0.68040\n",
      "Epoch 29, CIFAR-10 Batch 5:  Loss Value:    0.09454 Validation of Accuracy: 0.65860\n",
      "Epoch 30, CIFAR-10 Batch 1:  Loss Value:    0.10832 Validation of Accuracy: 0.67920\n",
      "Epoch 30, CIFAR-10 Batch 2:  Loss Value:    0.12983 Validation of Accuracy: 0.67000\n",
      "Epoch 30, CIFAR-10 Batch 3:  Loss Value:    0.08855 Validation of Accuracy: 0.67500\n",
      "Epoch 30, CIFAR-10 Batch 4:  Loss Value:    0.07082 Validation of Accuracy: 0.66620\n",
      "Epoch 30, CIFAR-10 Batch 5:  Loss Value:    0.07646 Validation of Accuracy: 0.67600\n",
      "Epoch 31, CIFAR-10 Batch 1:  Loss Value:    0.11354 Validation of Accuracy: 0.67720\n",
      "Epoch 31, CIFAR-10 Batch 2:  Loss Value:    0.10210 Validation of Accuracy: 0.67200\n",
      "Epoch 31, CIFAR-10 Batch 3:  Loss Value:    0.07361 Validation of Accuracy: 0.67440\n",
      "Epoch 31, CIFAR-10 Batch 4:  Loss Value:    0.06350 Validation of Accuracy: 0.67480\n",
      "Epoch 31, CIFAR-10 Batch 5:  Loss Value:    0.06365 Validation of Accuracy: 0.67700\n",
      "Epoch 32, CIFAR-10 Batch 1:  Loss Value:    0.09976 Validation of Accuracy: 0.68000\n",
      "Epoch 32, CIFAR-10 Batch 2:  Loss Value:    0.11134 Validation of Accuracy: 0.67400\n",
      "Epoch 32, CIFAR-10 Batch 3:  Loss Value:    0.09082 Validation of Accuracy: 0.65000\n",
      "Epoch 32, CIFAR-10 Batch 4:  Loss Value:    0.06628 Validation of Accuracy: 0.67640\n",
      "Epoch 32, CIFAR-10 Batch 5:  Loss Value:    0.06363 Validation of Accuracy: 0.67800\n",
      "Epoch 33, CIFAR-10 Batch 1:  Loss Value:    0.08861 Validation of Accuracy: 0.68360\n",
      "Epoch 33, CIFAR-10 Batch 2:  Loss Value:    0.08514 Validation of Accuracy: 0.67920\n",
      "Epoch 33, CIFAR-10 Batch 3:  Loss Value:    0.08606 Validation of Accuracy: 0.65360\n",
      "Epoch 33, CIFAR-10 Batch 4:  Loss Value:    0.07863 Validation of Accuracy: 0.66160\n",
      "Epoch 33, CIFAR-10 Batch 5:  Loss Value:    0.05510 Validation of Accuracy: 0.66500\n",
      "Epoch 34, CIFAR-10 Batch 1:  Loss Value:    0.08954 Validation of Accuracy: 0.68160\n",
      "Epoch 34, CIFAR-10 Batch 2:  Loss Value:    0.10048 Validation of Accuracy: 0.68060\n",
      "Epoch 34, CIFAR-10 Batch 3:  Loss Value:    0.07510 Validation of Accuracy: 0.65560\n",
      "Epoch 34, CIFAR-10 Batch 4:  Loss Value:    0.08970 Validation of Accuracy: 0.67740\n",
      "Epoch 34, CIFAR-10 Batch 5:  Loss Value:    0.07139 Validation of Accuracy: 0.67600\n",
      "Epoch 35, CIFAR-10 Batch 1:  Loss Value:    0.08947 Validation of Accuracy: 0.67180\n",
      "Epoch 35, CIFAR-10 Batch 2:  Loss Value:    0.08332 Validation of Accuracy: 0.67740\n",
      "Epoch 35, CIFAR-10 Batch 3:  Loss Value:    0.06941 Validation of Accuracy: 0.66040\n",
      "Epoch 35, CIFAR-10 Batch 4:  Loss Value:    0.06466 Validation of Accuracy: 0.68060\n",
      "Epoch 35, CIFAR-10 Batch 5:  Loss Value:    0.04726 Validation of Accuracy: 0.67340\n",
      "Epoch 36, CIFAR-10 Batch 1:  Loss Value:    0.07822 Validation of Accuracy: 0.68140\n",
      "Epoch 36, CIFAR-10 Batch 2:  Loss Value:    0.07862 Validation of Accuracy: 0.67740\n",
      "Epoch 36, CIFAR-10 Batch 3:  Loss Value:    0.05965 Validation of Accuracy: 0.66300\n",
      "Epoch 36, CIFAR-10 Batch 4:  Loss Value:    0.04425 Validation of Accuracy: 0.68060\n",
      "Epoch 36, CIFAR-10 Batch 5:  Loss Value:    0.04270 Validation of Accuracy: 0.68060\n",
      "Epoch 37, CIFAR-10 Batch 1:  Loss Value:    0.08240 Validation of Accuracy: 0.68080\n",
      "Epoch 37, CIFAR-10 Batch 2:  Loss Value:    0.07060 Validation of Accuracy: 0.67300\n",
      "Epoch 37, CIFAR-10 Batch 3:  Loss Value:    0.04884 Validation of Accuracy: 0.65880\n",
      "Epoch 37, CIFAR-10 Batch 4:  Loss Value:    0.05483 Validation of Accuracy: 0.67920\n",
      "Epoch 37, CIFAR-10 Batch 5:  Loss Value:    0.04609 Validation of Accuracy: 0.67760\n",
      "Epoch 38, CIFAR-10 Batch 1:  Loss Value:    0.07021 Validation of Accuracy: 0.68340\n",
      "Epoch 38, CIFAR-10 Batch 2:  Loss Value:    0.07263 Validation of Accuracy: 0.67500\n",
      "Epoch 38, CIFAR-10 Batch 3:  Loss Value:    0.05846 Validation of Accuracy: 0.65880\n",
      "Epoch 38, CIFAR-10 Batch 4:  Loss Value:    0.04846 Validation of Accuracy: 0.67700\n",
      "Epoch 38, CIFAR-10 Batch 5:  Loss Value:    0.04683 Validation of Accuracy: 0.67620\n",
      "Epoch 39, CIFAR-10 Batch 1:  Loss Value:    0.07160 Validation of Accuracy: 0.67800\n",
      "Epoch 39, CIFAR-10 Batch 2:  Loss Value:    0.06869 Validation of Accuracy: 0.67400\n",
      "Epoch 39, CIFAR-10 Batch 3:  Loss Value:    0.05790 Validation of Accuracy: 0.66880\n",
      "Epoch 39, CIFAR-10 Batch 4:  Loss Value:    0.04175 Validation of Accuracy: 0.68080\n",
      "Epoch 39, CIFAR-10 Batch 5:  Loss Value:    0.03880 Validation of Accuracy: 0.68280\n",
      "Epoch 40, CIFAR-10 Batch 1:  Loss Value:    0.07321 Validation of Accuracy: 0.67920\n",
      "Epoch 40, CIFAR-10 Batch 2:  Loss Value:    0.08959 Validation of Accuracy: 0.66620\n",
      "Epoch 40, CIFAR-10 Batch 3:  Loss Value:    0.06025 Validation of Accuracy: 0.65000\n",
      "Epoch 40, CIFAR-10 Batch 4:  Loss Value:    0.03192 Validation of Accuracy: 0.67660\n",
      "Epoch 40, CIFAR-10 Batch 5:  Loss Value:    0.05006 Validation of Accuracy: 0.68480\n",
      "Epoch 41, CIFAR-10 Batch 1:  Loss Value:    0.05425 Validation of Accuracy: 0.68560\n",
      "Epoch 41, CIFAR-10 Batch 2:  Loss Value:    0.06775 Validation of Accuracy: 0.67300\n",
      "Epoch 41, CIFAR-10 Batch 3:  Loss Value:    0.05516 Validation of Accuracy: 0.64360\n",
      "Epoch 41, CIFAR-10 Batch 4:  Loss Value:    0.02397 Validation of Accuracy: 0.68300\n",
      "Epoch 41, CIFAR-10 Batch 5:  Loss Value:    0.03534 Validation of Accuracy: 0.67180\n",
      "Epoch 42, CIFAR-10 Batch 1:  Loss Value:    0.05034 Validation of Accuracy: 0.67700\n",
      "Epoch 42, CIFAR-10 Batch 2:  Loss Value:    0.07406 Validation of Accuracy: 0.66320\n",
      "Epoch 42, CIFAR-10 Batch 3:  Loss Value:    0.05020 Validation of Accuracy: 0.66100\n",
      "Epoch 42, CIFAR-10 Batch 4:  Loss Value:    0.03817 Validation of Accuracy: 0.67780\n",
      "Epoch 42, CIFAR-10 Batch 5:  Loss Value:    0.03619 Validation of Accuracy: 0.67680\n",
      "Epoch 43, CIFAR-10 Batch 1:  Loss Value:    0.04996 Validation of Accuracy: 0.68500\n",
      "Epoch 43, CIFAR-10 Batch 2:  Loss Value:    0.05820 Validation of Accuracy: 0.67520\n",
      "Epoch 43, CIFAR-10 Batch 3:  Loss Value:    0.05516 Validation of Accuracy: 0.65300\n",
      "Epoch 43, CIFAR-10 Batch 4:  Loss Value:    0.03198 Validation of Accuracy: 0.67320\n",
      "Epoch 43, CIFAR-10 Batch 5:  Loss Value:    0.03600 Validation of Accuracy: 0.67520\n",
      "Epoch 44, CIFAR-10 Batch 1:  Loss Value:    0.05799 Validation of Accuracy: 0.68680\n",
      "Epoch 44, CIFAR-10 Batch 2:  Loss Value:    0.05861 Validation of Accuracy: 0.66560\n",
      "Epoch 44, CIFAR-10 Batch 3:  Loss Value:    0.03661 Validation of Accuracy: 0.67160\n",
      "Epoch 44, CIFAR-10 Batch 4:  Loss Value:    0.03775 Validation of Accuracy: 0.66940\n",
      "Epoch 44, CIFAR-10 Batch 5:  Loss Value:    0.04744 Validation of Accuracy: 0.66060\n",
      "Epoch 45, CIFAR-10 Batch 1:  Loss Value:    0.05900 Validation of Accuracy: 0.68880\n",
      "Epoch 45, CIFAR-10 Batch 2:  Loss Value:    0.05339 Validation of Accuracy: 0.66500\n",
      "Epoch 45, CIFAR-10 Batch 3:  Loss Value:    0.03832 Validation of Accuracy: 0.67520\n",
      "Epoch 45, CIFAR-10 Batch 4:  Loss Value:    0.03936 Validation of Accuracy: 0.67960\n",
      "Epoch 45, CIFAR-10 Batch 5:  Loss Value:    0.03655 Validation of Accuracy: 0.67020\n",
      "Epoch 46, CIFAR-10 Batch 1:  Loss Value:    0.07001 Validation of Accuracy: 0.65860\n",
      "Epoch 46, CIFAR-10 Batch 2:  Loss Value:    0.05314 Validation of Accuracy: 0.66980\n",
      "Epoch 46, CIFAR-10 Batch 3:  Loss Value:    0.03157 Validation of Accuracy: 0.67980\n",
      "Epoch 46, CIFAR-10 Batch 4:  Loss Value:    0.03524 Validation of Accuracy: 0.68120\n",
      "Epoch 46, CIFAR-10 Batch 5:  Loss Value:    0.03933 Validation of Accuracy: 0.67560\n",
      "Epoch 47, CIFAR-10 Batch 1:  Loss Value:    0.08706 Validation of Accuracy: 0.65920\n",
      "Epoch 47, CIFAR-10 Batch 2:  Loss Value:    0.04100 Validation of Accuracy: 0.66540\n",
      "Epoch 47, CIFAR-10 Batch 3:  Loss Value:    0.02999 Validation of Accuracy: 0.67960\n",
      "Epoch 47, CIFAR-10 Batch 4:  Loss Value:    0.04882 Validation of Accuracy: 0.66360\n",
      "Epoch 47, CIFAR-10 Batch 5:  Loss Value:    0.03614 Validation of Accuracy: 0.67080\n",
      "Epoch 48, CIFAR-10 Batch 1:  Loss Value:    0.04972 Validation of Accuracy: 0.67420\n",
      "Epoch 48, CIFAR-10 Batch 2:  Loss Value:    0.04990 Validation of Accuracy: 0.66140\n",
      "Epoch 48, CIFAR-10 Batch 3:  Loss Value:    0.02386 Validation of Accuracy: 0.68140\n",
      "Epoch 48, CIFAR-10 Batch 4:  Loss Value:    0.03411 Validation of Accuracy: 0.67360\n",
      "Epoch 48, CIFAR-10 Batch 5:  Loss Value:    0.02689 Validation of Accuracy: 0.67880\n",
      "Epoch 49, CIFAR-10 Batch 1:  Loss Value:    0.05974 Validation of Accuracy: 0.65680\n",
      "Epoch 49, CIFAR-10 Batch 2:  Loss Value:    0.03896 Validation of Accuracy: 0.65620\n",
      "Epoch 49, CIFAR-10 Batch 3:  Loss Value:    0.02768 Validation of Accuracy: 0.67820\n",
      "Epoch 49, CIFAR-10 Batch 4:  Loss Value:    0.02910 Validation of Accuracy: 0.66960\n",
      "Epoch 49, CIFAR-10 Batch 5:  Loss Value:    0.02524 Validation of Accuracy: 0.68160\n",
      "Epoch 50, CIFAR-10 Batch 1:  Loss Value:    0.03371 Validation of Accuracy: 0.66580\n",
      "Epoch 50, CIFAR-10 Batch 2:  Loss Value:    0.03898 Validation of Accuracy: 0.65180\n",
      "Epoch 50, CIFAR-10 Batch 3:  Loss Value:    0.02718 Validation of Accuracy: 0.67760\n",
      "Epoch 50, CIFAR-10 Batch 4:  Loss Value:    0.03433 Validation of Accuracy: 0.65980\n",
      "Epoch 50, CIFAR-10 Batch 5:  Loss Value:    0.02199 Validation of Accuracy: 0.68100\n"
     ]
    }
   ],
   "source": [
    "\"\"\"\n",
    "DON'T MODIFY ANYTHING IN THIS CELL\n",
    "\"\"\"\n",
    "save_model_path = './image_classification'\n",
    "\n",
    "print('Training...')\n",
    "with tf.Session() as sess:\n",
    "    # Initializing the variables\n",
    "    sess.run(tf.global_variables_initializer())\n",
    "    \n",
    "    # Training cycle\n",
    "    for epoch in range(epochs):\n",
    "        # Loop over all batches\n",
    "        n_batches = 5\n",
    "        for batch_i in range(1, n_batches + 1):\n",
    "            for batch_features, batch_labels in helper.load_preprocess_training_batch(batch_i, batch_size):\n",
    "                train_neural_network(sess, optimizer, keep_probability, batch_features, batch_labels)\n",
    "            print('Epoch {:>2}, CIFAR-10 Batch {}:  '.format(epoch + 1, batch_i), end='')\n",
    "            print_stats(sess, batch_features, batch_labels, cost, accuracy)\n",
    "            \n",
    "    # Save Model\n",
    "    saver = tf.train.Saver()\n",
    "    save_path = saver.save(sess, save_model_path)"
   ]
  },
  {
   "cell_type": "markdown",
   "metadata": {},
   "source": [
    "# Checkpoint\n",
    "The model has been saved to disk.\n",
    "## Test Model\n",
    "Test your model against the test dataset.  This will be your final accuracy. You should have an accuracy greater than 50%. If you don't, keep tweaking the model architecture and parameters."
   ]
  },
  {
   "cell_type": "code",
   "execution_count": 74,
   "metadata": {
    "collapsed": false
   },
   "outputs": [
    {
     "name": "stdout",
     "output_type": "stream",
     "text": [
      "Testing Accuracy: 0.6740234375\n",
      "\n"
     ]
    },
    {
     "data": {
      "image/png": "[encoded data removed]",
      "text/plain": [
       "<matplotlib.figure.Figure at 0x11245f048>"
      ]
     },
     "metadata": {
      "image/png": {
       "height": 319,
       "width": 355
      }
     },
     "output_type": "display_data"
    }
   ],
   "source": [
    "\"\"\"\n",
    "DON'T MODIFY ANYTHING IN THIS CELL\n",
    "\"\"\"\n",
    "%matplotlib inline\n",
    "%config InlineBackend.figure_format = 'retina'\n",
    "\n",
    "import tensorflow as tf\n",
    "import pickle\n",
    "import helper\n",
    "import random\n",
    "\n",
    "# Set batch size if not already set\n",
    "try:\n",
    "    if batch_size:\n",
    "        pass\n",
    "except NameError:\n",
    "    batch_size = 64\n",
    "\n",
    "save_model_path = './image_classification'\n",
    "n_samples = 4\n",
    "top_n_predictions = 3\n",
    "\n",
    "def test_model():\n",
    "    \"\"\"\n",
    "    Test the saved model against the test dataset\n",
    "    \"\"\"\n",
    "\n",
    "    test_features, test_labels = pickle.load(open('preprocess_training.p', mode='rb'))\n",
    "    loaded_graph = tf.Graph()\n",
    "\n",
    "    with tf.Session(graph=loaded_graph) as sess:\n",
    "        # Load model\n",
    "        loader = tf.train.import_meta_graph(save_model_path + '.meta')\n",
    "        loader.restore(sess, save_model_path)\n",
    "\n",
    "        # Get Tensors from loaded model\n",
    "        loaded_x = loaded_graph.get_tensor_by_name('x:0')\n",
    "        loaded_y = loaded_graph.get_tensor_by_name('y:0')\n",
    "        loaded_keep_prob = loaded_graph.get_tensor_by_name('keep_prob:0')\n",
    "        loaded_logits = loaded_graph.get_tensor_by_name('logits:0')\n",
    "        loaded_acc = loaded_graph.get_tensor_by_name('accuracy:0')\n",
    "        \n",
    "        # Get accuracy in batches for memory limitations\n",
    "        test_batch_acc_total = 0\n",
    "        test_batch_count = 0\n",
    "        \n",
    "        for train_feature_batch, train_label_batch in helper.batch_features_labels(test_features, test_labels, batch_size):\n",
    "            test_batch_acc_total += sess.run(\n",
    "                loaded_acc,\n",
    "                feed_dict={loaded_x: train_feature_batch, loaded_y: train_label_batch, loaded_keep_prob: 1.0})\n",
    "            test_batch_count += 1\n",
    "\n",
    "        print('Testing Accuracy: {}\\n'.format(test_batch_acc_total/test_batch_count))\n",
    "\n",
    "        # Print Random Samples\n",
    "        random_test_features, random_test_labels = tuple(zip(*random.sample(list(zip(test_features, test_labels)), n_samples)))\n",
    "        random_test_predictions = sess.run(\n",
    "            tf.nn.top_k(tf.nn.softmax(loaded_logits), top_n_predictions),\n",
    "            feed_dict={loaded_x: random_test_features, loaded_y: random_test_labels, loaded_keep_prob: 1.0})\n",
    "        helper.display_image_predictions(random_test_features, random_test_labels, random_test_predictions)\n",
    "\n",
    "\n",
    "test_model()"
   ]
  },
  {
   "cell_type": "markdown",
   "metadata": {},
   "source": [
    "## Why 50-70% Accuracy?\n",
    "You might be wondering why you can't get an accuracy any higher. First things first, 50% isn't bad for a simple CNN.  Pure guessing would get you 10% accuracy. However, you might notice people are getting scores [well above 70%](http://rodrigob.github.io/are_we_there_yet/build/classification_datasets_results.html#43494641522d3130).  That's because we haven't taught you all there is to know about neural networks. We still need to cover a few more techniques.\n",
    "## Submitting This Project\n",
    "When submitting this project, make sure to run all the cells before saving the notebook.  Save the notebook file as \"dlnd_image_classification.ipynb\" and save it as a HTML file under \"File\" -> \"Download as\".  Include the \"helper.py\" and \"problem_unittests.py\" files in your submission."
   ]
  }
 ],
 "metadata": {
  "kernelspec": {
   "display_name": "Python 3",
   "language": "python",
   "name": "python3"
  },
  "language_info": {
   "codemirror_mode": {
    "name": "ipython",
    "version": 3
   },
   "file_extension": ".py",
   "mimetype": "text/x-python",
   "name": "python",
   "nbconvert_exporter": "python",
   "pygments_lexer": "ipython3",
   "version": "3.5.3"
  }
 },
 "nbformat": 4,
 "nbformat_minor": 0
}
